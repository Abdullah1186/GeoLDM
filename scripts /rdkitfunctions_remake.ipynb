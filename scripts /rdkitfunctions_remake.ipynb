{
 "cells": [
  {
   "cell_type": "markdown",
   "metadata": {},
   "source": [
    "# Compiting Validity Novelty and Uniqueness\n"
   ]
  },
  {
   "cell_type": "markdown",
   "metadata": {},
   "source": [
    "## This is code from geoldm for validity \n",
    "\n",
    " def compute_validity(self, generated):\n",
    " \n",
    "        \"\"\" generated: list of couples (positions, atom_types)\"\"\"\n",
    "        valid = []\n",
    "    \n",
    "        for graph in generated:\n",
    "            mol = build_molecule(*graph, self.dataset_info)\n",
    "            smiles = mol2smiles(mol)\n",
    "            if smiles is not None:\n",
    "                mol_frags = Chem.rdmolops.GetMolFrags(mol, asMols=True)\n",
    "                largest_mol = max(mol_frags, default=mol, key=lambda m: m.GetNumAtoms())\n",
    "                smiles = mol2smiles(largest_mol)\n",
    "                valid.append(smiles)\n",
    "\n",
    "        return valid, len(valid) / len(generated)"
   ]
  },
  {
   "cell_type": "markdown",
   "metadata": {},
   "source": [
    "So we need to:\n",
    "\n",
    "1- check if smile is valid\n",
    " \n",
    "2- divide valid amount by original amount\n"
   ]
  },
  {
   "cell_type": "code",
   "execution_count": null,
   "metadata": {},
   "outputs": [],
   "source": []
  },
  {
   "cell_type": "markdown",
   "metadata": {},
   "source": []
  }
 ],
 "metadata": {
  "kernelspec": {
   "display_name": "my-rdkit-env",
   "language": "python",
   "name": "python3"
  },
  "language_info": {
   "name": "python",
   "version": "3.13.0"
  }
 },
 "nbformat": 4,
 "nbformat_minor": 2
}
